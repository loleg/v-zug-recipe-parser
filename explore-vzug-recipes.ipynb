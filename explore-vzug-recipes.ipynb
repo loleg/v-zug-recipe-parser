{
 "cells": [
  {
   "cell_type": "markdown",
   "metadata": {},
   "source": [
    "# V-ZUG Recipes exploration\n",
    "\n",
    "We got an interesting database of recipes to play with at the [Open Food Data](https://food.opendata.ch) Hackathon hosted by V-Zug. The recipes are used to program smart kitchen devices. \n",
    "\n",
    "Let's have a look at this data, and see if we can mold it into a simpler form. In this notebook we are using plain Python 3 with the built-in [ElementTree](https://docs.python.org/3/library/xml.etree.elementtree.html) functions.\n",
    "\n",
    "We have also written a `convert.py` script to generate JSON files according to a schema defined in `recipe.py`. See example usage at the bottom."
   ]
  },
  {
   "cell_type": "code",
   "execution_count": 1,
   "metadata": {},
   "outputs": [],
   "source": [
    "import xml.etree.ElementTree as ET"
   ]
  },
  {
   "cell_type": "markdown",
   "metadata": {},
   "source": [
    "Let's load up a recipe - if the XML is well formed we won't get any errors here:"
   ]
  },
  {
   "cell_type": "code",
   "execution_count": 2,
   "metadata": {},
   "outputs": [],
   "source": [
    "tree = ET.parse('recipes/vzug.09.zupfkuchen/recipe.xml')\n",
    "root = tree.getroot()"
   ]
  },
  {
   "cell_type": "markdown",
   "metadata": {},
   "source": [
    "A basic check is the identifier of the recipe, and should match the filename."
   ]
  },
  {
   "cell_type": "code",
   "execution_count": 3,
   "metadata": {},
   "outputs": [
    {
     "data": {
      "text/plain": [
       "'vzug.09.zupfkuchen'"
      ]
     },
     "execution_count": 3,
     "metadata": {},
     "output_type": "execute_result"
    }
   ],
   "source": [
    "root.find('declarations/uid').text"
   ]
  },
  {
   "cell_type": "markdown",
   "metadata": {},
   "source": [
    "Check. Now that we know something about the data, let's take a peek inside."
   ]
  },
  {
   "cell_type": "code",
   "execution_count": 4,
   "metadata": {},
   "outputs": [
    {
     "data": {
      "text/plain": [
       "'vzug.09.zupfkuchen.slide'"
      ]
     },
     "execution_count": 4,
     "metadata": {},
     "output_type": "execute_result"
    }
   ],
   "source": [
    "root.find('.//image').attrib['id']"
   ]
  },
  {
   "cell_type": "markdown",
   "metadata": {},
   "source": [
    "Unfortunately, that image doesn't help much.."
   ]
  },
  {
   "cell_type": "code",
   "execution_count": 5,
   "metadata": {},
   "outputs": [
    {
     "data": {
      "text/plain": [
       "['Zupfkuchen', 'Cheesecake', 'Gâteau au fromage blanc', 'Torta pizzicotta']"
      ]
     },
     "execution_count": 5,
     "metadata": {},
     "output_type": "execute_result"
    }
   ],
   "source": [
    "[ e.text for e in root.findall('declarations/name/lang') ]"
   ]
  },
  {
   "cell_type": "markdown",
   "metadata": {},
   "source": [
    "Okay, we are getting somewhere - let us see what else is there to learn about this tasty Cheesecake. How about the ingredients. How many are there?"
   ]
  },
  {
   "cell_type": "code",
   "execution_count": 6,
   "metadata": {},
   "outputs": [
    {
     "data": {
      "text/plain": [
       "15"
      ]
     },
     "execution_count": 6,
     "metadata": {},
     "output_type": "execute_result"
    }
   ],
   "source": [
    "ingredients = root.findall('declarations/ingredient-categories/cat')\n",
    "len(ingredients)"
   ]
  },
  {
   "cell_type": "markdown",
   "metadata": {},
   "source": [
    "Okay, and what are their names?"
   ]
  },
  {
   "cell_type": "code",
   "execution_count": 7,
   "metadata": {},
   "outputs": [
    {
     "data": {
      "text/plain": [
       "'soft butter, sugar, eggs, white flour, unsweetened cocoa powder, baking powder, soft butter, sugar, vanilla sugar, egg yolks, low-fat quark, full-fat quark, Maizena (cornflour), Cognac, egg whites'"
      ]
     },
     "execution_count": 7,
     "metadata": {},
     "output_type": "execute_result"
    }
   ],
   "source": [
    "\", \".join([ e.find('name/lang[@ref=\"en\"]').text for e in ingredients ])"
   ]
  },
  {
   "cell_type": "markdown",
   "metadata": {},
   "source": [
    "All of them have identifiers. Some of them have units."
   ]
  },
  {
   "cell_type": "code",
   "execution_count": 8,
   "metadata": {},
   "outputs": [
    {
     "name": "stdout",
     "output_type": "stream",
     "text": [
      "('2649894283', 'soft butter', 'g')\n",
      "('2649905291', 'sugar', 'g')\n",
      "('2649925131', 'white flour', 'g')\n",
      "('2649936139', 'unsweetened cocoa powder', 'g')\n",
      "('2649947147', 'baking powder', 'packet of')\n",
      "('2649984779', 'soft butter', 'g')\n",
      "('2649995787', 'sugar', 'g')\n",
      "('2650006795', 'vanilla sugar', 'packets of')\n",
      "('2650026635', 'low-fat quark', 'g')\n",
      "('2650037643', 'full-fat quark', 'g')\n",
      "('2650048651', 'Maizena (cornflour)', 'g')\n",
      "('2650059659', 'Cognac', 'tbsp')\n"
     ]
    }
   ],
   "source": [
    "dict_ingredients = {}\n",
    "for e in ingredients:\n",
    "    ident = e.attrib[\"id\"]\n",
    "    unit = e.find('unit/lang[@ref=\"en\"]').text\n",
    "    name = e.find('name/lang[@ref=\"en\"]').text\n",
    "    if unit: print((ident, name, unit))\n",
    "    dict_ingredients[ident] = {\"name\": name, \"unit\": unit}"
   ]
  },
  {
   "cell_type": "markdown",
   "metadata": {},
   "source": [
    "Now that we know something about the ingredients, we can start <s>the robot</s> cooking. We should take it one step at a time. There are multiple \"groups\" under `task`, which each have multiple ingredients and messages underneath."
   ]
  },
  {
   "cell_type": "code",
   "execution_count": 9,
   "metadata": {},
   "outputs": [
    {
     "data": {
      "text/plain": [
       "['Beat the butter and sugar together to give a light, fluffy mixture, add the eggs then continue to beat until you achieve a creamy consistency. Mix the flour, cocoa powder and baking powder together and fold into the butter mixture. Leave the dough in a cool place for 2 hours.',\n",
       " 'Grease the base and side of the spring form tin with butter. Divide the dough into 2 equal portions. Roll one portion out across the base of the spring form tin. Place the ring on top. Divide the remaining dough into 2 equal portions, then roll one portion out so that it is the same length as the circumference of the tin, place it on the dough base around the edge of the tin and shape to a height of around 6 cm.']"
      ]
     },
     "execution_count": 9,
     "metadata": {},
     "output_type": "execute_result"
    }
   ],
   "source": [
    "a_group = root.find('task/group')\n",
    "[ m.text for m in a_group.findall('message/lang[@ref=\"en\"]') ]"
   ]
  },
  {
   "cell_type": "markdown",
   "metadata": {},
   "source": [
    "Sometimes the messages target a particular device."
   ]
  },
  {
   "cell_type": "code",
   "execution_count": 10,
   "metadata": {},
   "outputs": [
    {
     "data": {
      "text/plain": [
       "'Put the tin on to the wire shelf at level 2 of the preheated cooking space. Hot air 160 °C, 70 minutes.'"
      ]
     },
     "execution_count": 10,
     "metadata": {},
     "output_type": "execute_result"
    }
   ],
   "source": [
    "root.find('task/group/message[scope]/lang[@ref=\"en\"]').text"
   ]
  },
  {
   "cell_type": "markdown",
   "metadata": {},
   "source": [
    "These scoped messages reference device models:"
   ]
  },
  {
   "cell_type": "code",
   "execution_count": 11,
   "metadata": {},
   "outputs": [
    {
     "data": {
      "text/plain": [
       "['CS-S-12', 'CS-S-09', 'CST-SL-12', 'CST-SL-09', 'CST-XSL-12', 'CST-XSL-09']"
      ]
     },
     "execution_count": 11,
     "metadata": {},
     "output_type": "execute_result"
    }
   ],
   "source": [
    "[ d.attrib['device-ref'] for d in root.findall('task/group/message/scope') ]"
   ]
  },
  {
   "cell_type": "markdown",
   "metadata": {},
   "source": [
    "..which the recipe does summarize, but does not provide product information for."
   ]
  },
  {
   "cell_type": "code",
   "execution_count": 12,
   "metadata": {},
   "outputs": [
    {
     "data": {
      "text/plain": [
       "['CST-SL-09', 'CST-SL-12', 'CST-XSL-09', 'CST-XSL-12', 'CS-S-09', 'CS-S-12']"
      ]
     },
     "execution_count": 12,
     "metadata": {},
     "output_type": "execute_result"
    }
   ],
   "source": [
    "[ d.attrib['id'] for d in root.findall('declarations/devices/device') ]"
   ]
  },
  {
   "cell_type": "markdown",
   "metadata": {},
   "source": [
    "The really cool (no pun intended) part is when cooking instructions are mentioned, e.g.:"
   ]
  },
  {
   "cell_type": "code",
   "execution_count": 13,
   "metadata": {},
   "outputs": [
    {
     "data": {
      "text/plain": [
       "('01:10:00', '002-hot-air', '160', 'Einschaltdauer')"
      ]
     },
     "execution_count": 13,
     "metadata": {},
     "output_type": "execute_result"
    }
   ],
   "source": [
    "a_command = root.findall('task/group/device-command/oven[@oven-temperature]')[1]\n",
    "(a_command.attrib['duration'], \n",
    " a_command.attrib['heating-mode'], \n",
    " a_command.attrib['oven-temperature'],\n",
    " a_command.find('continue').attrib['condition']\n",
    ")"
   ]
  },
  {
   "cell_type": "markdown",
   "metadata": {},
   "source": [
    "And of course, the amounts of ingredients to use:"
   ]
  },
  {
   "cell_type": "code",
   "execution_count": 14,
   "metadata": {},
   "outputs": [
    {
     "name": "stdout",
     "output_type": "stream",
     "text": [
      "Dough\n",
      "{'name': 'soft butter', 'unit': 'g', 'amount': 200}\n",
      "{'name': 'sugar', 'unit': 'g', 'amount': 200}\n",
      "{'name': 'eggs', 'unit': None, 'amount': 2}\n",
      "{'name': 'white flour', 'unit': 'g', 'amount': 400}\n",
      "{'name': 'unsweetened cocoa powder', 'unit': 'g', 'amount': 50}\n",
      "{'name': 'baking powder', 'unit': 'packet of', 'amount': 1}\n"
     ]
    }
   ],
   "source": [
    "print(a_group.find('title/lang[@ref=\"en\"]').text)\n",
    "for e in a_group.findall('ingredient'):\n",
    "    d = dict_ingredients[e.attrib['ref']]\n",
    "    d['amount'] = int(e.find('amount').attrib[\"min\"])\n",
    "    print(d)"
   ]
  },
  {
   "cell_type": "markdown",
   "metadata": {},
   "source": [
    "It may also help the app developer to categorize this recipe:"
   ]
  },
  {
   "cell_type": "code",
   "execution_count": 15,
   "metadata": {},
   "outputs": [
    {
     "data": {
      "text/plain": [
       "['/calories/high',\n",
       " '/cooking-skill/advanced',\n",
       " '/duration/medium',\n",
       " '/main-ingredient/dairy-product',\n",
       " '/producing-country/Switzerland',\n",
       " '/allergy/gluten',\n",
       " '/allergy/milk',\n",
       " '/allergy/egg',\n",
       " '/allergy/sulphite',\n",
       " '/diet/vegetarian',\n",
       " '/dish-type/cake',\n",
       " '/menu/dessert',\n",
       " '/occasion/guests',\n",
       " '/religion/alcohol']"
      ]
     },
     "execution_count": 15,
     "metadata": {},
     "output_type": "execute_result"
    }
   ],
   "source": [
    "categories = root.find('.//categories')\n",
    "[ e.attrib[\"path\"] for e in categories.findall('category') ]"
   ]
  },
  {
   "cell_type": "markdown",
   "metadata": {},
   "source": [
    "And the total cooking time (for some reason the elements have duplicates in the XML)"
   ]
  },
  {
   "cell_type": "code",
   "execution_count": 16,
   "metadata": {},
   "outputs": [
    {
     "name": "stdout",
     "output_type": "stream",
     "text": [
      "Preparation: 02:30:00\n",
      "Cooking: 01:10:00\n"
     ]
    }
   ],
   "source": [
    "print(\"Preparation: %s\" % categories.find('duration[@type=\"preparation\"]').attrib[\"value\"])\n",
    "print(\"Cooking: %s\" % categories.find('duration[@type=\"cooking\"]').attrib[\"value\"])"
   ]
  },
  {
   "cell_type": "markdown",
   "metadata": {},
   "source": [
    "Another thing of note is the list of equipment (tools?) required."
   ]
  },
  {
   "cell_type": "code",
   "execution_count": 17,
   "metadata": {},
   "outputs": [
    {
     "data": {
      "text/plain": [
       "['Accessories', 'Spring form tin ø26 cm', 'Wire shelf']"
      ]
     },
     "execution_count": 17,
     "metadata": {},
     "output_type": "execute_result"
    }
   ],
   "source": [
    "[ e.text for e in root.findall('task/group[@type=\"equipment\"]/*/lang[@ref=\"en\"]') ]"
   ]
  },
  {
   "cell_type": "markdown",
   "metadata": {},
   "source": [
    "Putting it together, let's see if we can put the essential bits of the recipe into a dictionary."
   ]
  },
  {
   "cell_type": "code",
   "execution_count": 18,
   "metadata": {},
   "outputs": [
    {
     "data": {
      "text/plain": [
       "{'id': 'vzug.09.zupfkuchen',\n",
       " 'name': 'Cheesecake',\n",
       " 'categories': {'calories': ['high'],\n",
       "  'cooking-skill': ['advanced'],\n",
       "  'duration': ['medium'],\n",
       "  'main-ingredient': ['dairy-product'],\n",
       "  'producing-country': ['Switzerland'],\n",
       "  'allergy': ['gluten', 'milk', 'egg', 'sulphite'],\n",
       "  'diet': ['vegetarian'],\n",
       "  'dish-type': ['cake'],\n",
       "  'menu': ['dessert'],\n",
       "  'occasion': ['guests'],\n",
       "  'religion': ['alcohol']},\n",
       " 'preparationTime': '02:30:00',\n",
       " 'cookingTime': '01:10:00',\n",
       " 'ingredients': ['soft butter',\n",
       "  'sugar',\n",
       "  'eggs',\n",
       "  'white flour',\n",
       "  'unsweetened cocoa powder',\n",
       "  'baking powder',\n",
       "  'soft butter',\n",
       "  'sugar',\n",
       "  'vanilla sugar',\n",
       "  'egg yolks',\n",
       "  'low-fat quark',\n",
       "  'full-fat quark',\n",
       "  'Maizena (cornflour)',\n",
       "  'Cognac',\n",
       "  'egg whites'],\n",
       " 'instructions': {0: {'title': 'Dough',\n",
       "   'message': 'Beat the butter and sugar together to give a light, fluffy mixture, add the eggs then continue to beat until you achieve a creamy consistency. Mix the flour, cocoa powder and baking powder together and fold into the butter mixture. Leave the dough in a cool place for 2 hours.',\n",
       "   'ingredients': [{'name': 'soft butter', 'unit': 'g', 'amount': 200.0},\n",
       "    {'name': 'sugar', 'unit': 'g', 'amount': 200.0},\n",
       "    {'name': 'eggs', 'unit': None, 'amount': 2.0},\n",
       "    {'name': 'white flour', 'unit': 'g', 'amount': 400.0},\n",
       "    {'name': 'unsweetened cocoa powder', 'unit': 'g', 'amount': 50.0},\n",
       "    {'name': 'baking powder', 'unit': 'packet of', 'amount': 1.0}]},\n",
       "  1: {'title': 'Quark filling',\n",
       "   'message': 'For the filling, beat the butter, sugar and vanilla sugar together to give a light, fluffy mixture. Stir in the egg yolks, quark, Maizena (cornflour) and cognac. Beat the egg whites until they are stiff, then gently fold them into the mixture.',\n",
       "   'ingredients': [{'name': 'soft butter', 'unit': 'g', 'amount': 125.0},\n",
       "    {'name': 'sugar', 'unit': 'g', 'amount': 150.0},\n",
       "    {'name': 'vanilla sugar', 'unit': 'packets of', 'amount': 3.0},\n",
       "    {'name': 'egg yolks', 'unit': None, 'amount': 3.0},\n",
       "    {'name': 'low-fat quark', 'unit': 'g', 'amount': 500.0},\n",
       "    {'name': 'full-fat quark', 'unit': 'g', 'amount': 300.0},\n",
       "    {'name': 'Maizena (cornflour)', 'unit': 'g', 'amount': 30.0},\n",
       "    {'name': 'Cognac', 'unit': 'tbsp', 'amount': 4.0},\n",
       "    {'name': 'egg whites', 'unit': None, 'amount': 3.0}],\n",
       "   'device': [{'type': 'oven',\n",
       "     'duration': '00:00:00',\n",
       "     'mode': '002-hot-air',\n",
       "     'temperature': '160',\n",
       "     'condition': 'Garraumtemperatur'},\n",
       "    {'type': 'pause', 'id': '008-Gargut-einschieben', 'timeout': '00:00:00'},\n",
       "    {'type': 'oven',\n",
       "     'duration': '01:10:00',\n",
       "     'mode': '002-hot-air',\n",
       "     'temperature': '160',\n",
       "     'condition': 'Einschaltdauer'}]},\n",
       "  2: {'title': 'Accessories', 'message': 'Spring form tin ø26 cm'}}}"
      ]
     },
     "execution_count": 18,
     "metadata": {},
     "output_type": "execute_result"
    }
   ],
   "source": [
    "from recipe import Recipe\n",
    "\n",
    "LANGUAGES = ['de', 'en', 'fr', 'it']\n",
    "\n",
    "Recipe(root, 'en').dict()"
   ]
  },
  {
   "cell_type": "markdown",
   "metadata": {},
   "source": [
    "Or we can load all the data at once and do some basic analysis."
   ]
  },
  {
   "cell_type": "code",
   "execution_count": 23,
   "metadata": {},
   "outputs": [],
   "source": [
    "import os\n",
    "import pandas as pd\n",
    "import numpy as np\n",
    "import matplotlib.pyplot as plt"
   ]
  },
  {
   "cell_type": "code",
   "execution_count": 21,
   "metadata": {
    "scrolled": true
   },
   "outputs": [
    {
     "data": {
      "text/html": [
       "<div>\n",
       "<style scoped>\n",
       "    .dataframe tbody tr th:only-of-type {\n",
       "        vertical-align: middle;\n",
       "    }\n",
       "\n",
       "    .dataframe tbody tr th {\n",
       "        vertical-align: top;\n",
       "    }\n",
       "\n",
       "    .dataframe thead th {\n",
       "        text-align: right;\n",
       "    }\n",
       "</style>\n",
       "<table border=\"1\" class=\"dataframe\">\n",
       "  <thead>\n",
       "    <tr style=\"text-align: right;\">\n",
       "      <th></th>\n",
       "      <th>name</th>\n",
       "      <th>ingredients</th>\n",
       "      <th>instructions</th>\n",
       "      <th>skill</th>\n",
       "      <th>duration</th>\n",
       "    </tr>\n",
       "  </thead>\n",
       "  <tbody>\n",
       "    <tr>\n",
       "      <th>0</th>\n",
       "      <td>Mozzarella, green bean and onion mash</td>\n",
       "      <td>8</td>\n",
       "      <td>2</td>\n",
       "      <td>easy</td>\n",
       "      <td>fast</td>\n",
       "    </tr>\n",
       "    <tr>\n",
       "      <th>1</th>\n",
       "      <td>Apple puff pastry horseshoes</td>\n",
       "      <td>6</td>\n",
       "      <td>5</td>\n",
       "      <td>easy</td>\n",
       "      <td>medium</td>\n",
       "    </tr>\n",
       "    <tr>\n",
       "      <th>2</th>\n",
       "      <td>Tarte Tatin</td>\n",
       "      <td>4</td>\n",
       "      <td>2</td>\n",
       "      <td>moderate</td>\n",
       "      <td>medium</td>\n",
       "    </tr>\n",
       "    <tr>\n",
       "      <th>3</th>\n",
       "      <td>Mashed potato with lime</td>\n",
       "      <td>4</td>\n",
       "      <td>3</td>\n",
       "      <td>easy</td>\n",
       "      <td>fast</td>\n",
       "    </tr>\n",
       "    <tr>\n",
       "      <th>4</th>\n",
       "      <td>Duck breast with a honey and soy glaze and plu...</td>\n",
       "      <td>16</td>\n",
       "      <td>3</td>\n",
       "      <td>moderate</td>\n",
       "      <td>medium</td>\n",
       "    </tr>\n",
       "  </tbody>\n",
       "</table>\n",
       "</div>"
      ],
      "text/plain": [
       "                                                name ingredients instructions  \\\n",
       "0              Mozzarella, green bean and onion mash           8            2   \n",
       "1                       Apple puff pastry horseshoes           6            5   \n",
       "2                                        Tarte Tatin           4            2   \n",
       "3                            Mashed potato with lime           4            3   \n",
       "4  Duck breast with a honey and soy glaze and plu...          16            3   \n",
       "\n",
       "      skill duration  \n",
       "0      easy     fast  \n",
       "1      easy   medium  \n",
       "2  moderate   medium  \n",
       "3      easy     fast  \n",
       "4  moderate   medium  "
      ]
     },
     "execution_count": 21,
     "metadata": {},
     "output_type": "execute_result"
    }
   ],
   "source": [
    "dirlist = [dirs for root, dirs, files in os.walk('recipes')]\n",
    "df = pd.DataFrame(columns=['name', 'ingredients', 'instructions', 'skill', 'duration'])\n",
    "\n",
    "for subdir in dirlist[0]:\n",
    "    tree = ET.parse('recipes/%s/recipe.xml' % subdir)\n",
    "    root = tree.getroot()\n",
    "    data = Recipe(root, 'en').dict()\n",
    "\n",
    "    df = df.append({\n",
    "        'name':          data['name'],\n",
    "        'ingredients':   len(data['ingredients']),\n",
    "        'instructions':  len(data['instructions']),\n",
    "        'skill':         data['categories']['cooking-skill'][0],\n",
    "        'duration':      data['categories']['duration'][0],\n",
    "    }, ignore_index=True)\n",
    "    \n",
    "df.head()"
   ]
  },
  {
   "cell_type": "code",
   "execution_count": 24,
   "metadata": {},
   "outputs": [
    {
     "data": {
      "text/plain": [
       "<matplotlib.legend.Legend at 0x7f9bc086ada0>"
      ]
     },
     "execution_count": 24,
     "metadata": {},
     "output_type": "execute_result"
    },
    {
     "data": {
      "text/plain": [
       "<Figure size 432x288 with 0 Axes>"
      ]
     },
     "metadata": {},
     "output_type": "display_data"
    },
    {
     "data": {
      "image/png": "[encoded data removed]",
      "text/plain": [
       "<Figure size 432x288 with 1 Axes>"
      ]
     },
     "metadata": {},
     "output_type": "display_data"
    }
   ],
   "source": [
    "plt.figure(); df.plot(); plt.legend(loc='best')"
   ]
  }
 ],
 "metadata": {
  "kernelspec": {
   "display_name": "Python 3",
   "language": "python",
   "name": "python3"
  },
  "language_info": {
   "codemirror_mode": {
    "name": "ipython",
    "version": 3
   },
   "file_extension": ".py",
   "mimetype": "text/x-python",
   "name": "python",
   "nbconvert_exporter": "python",
   "pygments_lexer": "ipython3",
   "version": "3.6.6"
  }
 },
 "nbformat": 4,
 "nbformat_minor": 2
}
